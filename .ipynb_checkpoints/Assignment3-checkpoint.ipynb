{
 "cells": [
  {
   "cell_type": "code",
   "execution_count": 1,
   "metadata": {},
   "outputs": [],
   "source": [
    "import numpy as np\n",
    "import matplotlib.pyplot as plt\n",
    "import random"
   ]
  },
  {
   "cell_type": "markdown",
   "metadata": {},
   "source": [
    "# Q1"
   ]
  },
  {
   "cell_type": "code",
   "execution_count": 2,
   "metadata": {},
   "outputs": [],
   "source": [
    "class P1():\n",
    "    def __init__(self, m, n, winds, eps, max_iter, destination):\n",
    "        self.Q_table = np.zeros((m*n, 4)) # 4 directions - N, E, S, W or up, right, down, left\n",
    "        self.nu_table = np.zeros((m*n, 4))\n",
    "        self.u_table = np.zeros((m*n,))\n",
    "        self.m = m\n",
    "        self.n = n\n",
    "        self.eps = eps\n",
    "        self.max_iter = max_iter\n",
    "        self.winds = winds\n",
    "        self.destination = destination\n",
    "                    \n",
    "    def solve(self):\n",
    "        converged = False\n",
    "        iter = 0\n",
    "        Q_total = []\n",
    "        while(converged == False and iter<self.max_iter):\n",
    "            \n",
    "            # iterating over all states\n",
    "            for i in range(1, 1 + self.m*self.n):\n",
    "                u = self.get_greedy_u(i, eps)\n",
    "                self.nu_table[i-1, u] +=1\n",
    "                self.Q_table[i-1, u] = self.Q_table[i-1, u] + self.a(self.nu_table[i-1, u])*(self.g(i, u) + self.max_u_Q(self.next_state(i, u))[1] - self.Q_table[i-1, u])\n",
    "                \n",
    "            iter+=1\n",
    "            Q_total.append(self.Q_table.sum())\n",
    "        \n",
    "        return Q_total\n",
    "    \n",
    "    def get_greedy_u(self, s, eps):\n",
    "        p = random.uniform(0, 1)\n",
    "        u_opti, Qbest = self.max_u_Q(s)\n",
    "\n",
    "        if(p>eps): #exploit\n",
    "            return u_opti\n",
    "        \n",
    "        else: #explore\n",
    "            u = self.get_random_valid_u(s, u_opti)\n",
    "            return u\n",
    "    \n",
    "    def get_random_valid_u(self, s, u_opti):\n",
    "        while(True):\n",
    "            u_dash = random.randint(0, 3)\n",
    "            return u_dash\n",
    "        \n",
    "    \n",
    "    def g(self, i, u):\n",
    "        r, c = self.get_r_c(self.next_state(i, u))\n",
    "        if((r, c) != self.destination):\n",
    "            return -1\n",
    "        else:\n",
    "            return 0\n",
    "            \n",
    "    def a(self, n):   \n",
    "        return (1/n)**0.6\n",
    "#         return 0.1\n",
    "    \n",
    "    def get_r_c(self, s):\n",
    "        # to get row and col number from s. Indexes r and c are 0 based\n",
    "        r = (s-1)//self.n\n",
    "        c = (s-1)%self.n\n",
    "        return r, c\n",
    "    \n",
    "    def get_s(self, r, c):\n",
    "        # to get s from row and col number\n",
    "        return (r*12 +c+1)\n",
    "    \n",
    "    \n",
    "    def next_state(self, s, u):\n",
    "        r, c = self.get_r_c(s)\n",
    "        if(u == 0):\n",
    "            return self.get_s(max(r-1-self.winds[c], 0), c)\n",
    "        elif(u == 1):\n",
    "            return self.get_s(max(r-self.winds[c], 0), min(c+1, 11))\n",
    "        elif(u == 2):\n",
    "#             print(self.winds)\n",
    "#             print(r)\n",
    "            return self.get_s(min(max(r+1-self.winds[c], 0), 6), c)\n",
    "        elif(u == 3):\n",
    "            return self.get_s(max(r-self.winds[c], 0), max(c-1, 0))\n",
    "        \n",
    "            \n",
    "    \n",
    "    def max_u_Q(self, i):\n",
    "        r, c = self.get_r_c(i)\n",
    "        ubest = -1\n",
    "        Qbest = -np.inf\n",
    "        for u in range(4):\n",
    "            if(self.Q_table[i-1, u]>=Qbest):\n",
    "                Qbest = self.Q_table[i-1, u]\n",
    "                ubest = u\n",
    "                \n",
    "        return ubest, self.Q_table[i-1, ubest]\n",
    "    \n",
    "    def getQ(self):\n",
    "        return self.Q_table\n",
    "    \n",
    "    def getU(self):\n",
    "        \n",
    "        policy = np.zeros((self.m, self.n))\n",
    "        for r in range(self.m):\n",
    "            for c in range(self.n):\n",
    "                policy[r, c] = np.argmax(self.Q_table[self.get_s(r, c)-1])\n",
    "        return policy\n",
    "    \n",
    "    def getnu(self):\n",
    "        return self.nu_table"
   ]
  },
  {
   "cell_type": "code",
   "execution_count": 3,
   "metadata": {},
   "outputs": [],
   "source": [
    "#m*n grid, m = rows, n = cols\n",
    "m, n = 7, 12\n",
    "winds = np.array([0, 0, 0, 1, 1, 1, 1, 2, 2, 1, 1, 0])\n",
    "eps = 0.2\n",
    "max_iter = 1000\n",
    "dest = (3,9)\n",
    "env1 = P1(m, n, winds, eps, max_iter, dest)\n",
    "Q_total = env1.solve()"
   ]
  },
  {
   "cell_type": "code",
   "execution_count": 4,
   "metadata": {},
   "outputs": [
    {
     "name": "stdout",
     "output_type": "stream",
     "text": [
      "Q values\n"
     ]
    },
    {
     "data": {
      "text/plain": [
       "array([[-16.73495762, -15.99999038, -16.6802579 , -16.59333126],\n",
       "       [-15.80214811, -14.99999751, -15.7635181 , -16.30885417],\n",
       "       [-14.77645096, -13.99999926, -14.84773649, -15.59117954],\n",
       "       [-13.93304319, -12.9999998 , -13.83012784, -14.44601763],\n",
       "       [-12.91608473, -11.99999994, -12.94099926, -13.89575497],\n",
       "       [-11.94908432, -10.99999998, -11.90703274, -12.89722482],\n",
       "       [-10.93195047,  -9.99999999, -10.95211805, -11.94173941],\n",
       "       [ -9.96905227,  -9.        ,  -9.98733311, -10.93997951],\n",
       "       [ -8.99151449,  -8.        ,  -8.9903722 ,  -9.97100274],\n",
       "       [ -7.98757682,  -7.        ,  -7.99533797,  -8.98615061],\n",
       "       [ -6.99198178,  -6.        ,  -6.99588832,  -7.98643909],\n",
       "       [ -5.99886872,  -5.99852189,  -5.        ,  -6.99446681],\n",
       "       [-16.61039782, -15.99999225, -16.59095519, -16.69031263],\n",
       "       [-15.59782154, -14.99999784, -15.68369792, -16.70875722],\n",
       "       [-14.76188567, -13.99999935, -14.74617256, -15.48213076],\n",
       "       [-13.85475913, -12.99999981, -13.87472899, -14.78348794],\n",
       "       [-12.9540862 , -11.99999994, -12.93872994, -13.87997178],\n",
       "       [-11.89858196, -10.99999998, -11.8728361 , -12.88936263],\n",
       "       [-10.94944464, -10.        , -10.9227688 , -11.89885197],\n",
       "       [ -9.9855244 ,  -9.        ,  -9.94790057, -10.96495045],\n",
       "       [ -8.98555652,  -8.        ,  -8.99294732,  -9.97525656],\n",
       "       [ -7.99381658,  -7.        ,  -7.99626921,  -8.98507706],\n",
       "       [ -6.99661864,  -6.        ,  -6.99314766,  -7.99204245],\n",
       "       [ -5.9991185 ,  -4.99888643,  -4.        ,  -6.9894558 ],\n",
       "       [-16.76312308, -15.99999007, -16.68021408, -16.61287381],\n",
       "       [-15.7632197 , -14.99999764, -15.57150484, -16.66432494],\n",
       "       [-14.78687578, -13.99999929, -14.77122165, -15.68036008],\n",
       "       [-13.8655823 , -12.99999979, -13.85118871, -14.73299123],\n",
       "       [-12.92724297, -11.99999995, -12.88972357, -13.92497867],\n",
       "       [-11.98557368, -10.99999998, -11.93088486, -12.87337676],\n",
       "       [-10.95109682,  -9.99999999, -10.97830232, -11.96566221],\n",
       "       [ -9.97638544,  -9.        ,  -9.97277944, -10.96353185],\n",
       "       [ -8.99262679,  -8.        ,  -8.94950555,  -9.89111512],\n",
       "       [ -7.99505346,  -7.        ,  -7.99108044,  -8.95911364],\n",
       "       [ -6.99180967,  -5.        ,  -5.99601549,  -7.9960252 ],\n",
       "       [ -4.9992508 ,  -3.99965673,  -3.        ,  -5.99898913],\n",
       "       [-16.63215298, -15.99999255, -16.72572764, -16.54778541],\n",
       "       [-15.74347791, -14.99999798, -15.75748173, -16.37077819],\n",
       "       [-14.86975444, -13.99999943, -14.58627874, -15.65403044],\n",
       "       [-13.82525366, -12.99999983, -13.85651404, -14.7333383 ],\n",
       "       [-12.91424573, -11.99999995, -12.87812269, -13.87382293],\n",
       "       [-11.88366979, -10.99999998, -11.95410641, -12.91057091],\n",
       "       [-10.98163859,  -9.99999999, -10.94971424, -11.96274342],\n",
       "       [ -9.98717792,  -9.        ,  -9.97603611, -10.94733877],\n",
       "       [ -8.98848036,  -8.        ,  -8.9906324 ,  -9.96051961],\n",
       "       [ -7.99886614,  -5.99999973,   0.        ,  -8.99891656],\n",
       "       [ -6.98895993,  -4.        ,  -4.99921257,  -7.9953185 ],\n",
       "       [ -3.99991188,  -2.9999327 ,  -2.        ,  -4.99933132],\n",
       "       [-16.77269364, -15.99999355, -16.39911441, -16.64060109],\n",
       "       [-15.79603086, -14.99999802, -15.7609979 , -16.34771861],\n",
       "       [-14.83281224, -13.99999941, -14.76998327, -15.74044406],\n",
       "       [-13.80311408, -12.99999985, -13.82459831, -14.71671447],\n",
       "       [-12.86236911, -11.99999995, -12.87568265, -13.83585867],\n",
       "       [-11.94759293, -10.99999998, -11.93839323, -12.89992359],\n",
       "       [-10.95922346, -10.        , -10.95319831, -11.93719665],\n",
       "       [ -9.96335577,  -9.        ,  -9.95667824, -10.89803688],\n",
       "       [ -8.99280371,  -8.        ,  -8.9877099 ,  -9.94845752],\n",
       "       [ -7.98553178,  -5.        ,  -5.99813425,  -8.99817421],\n",
       "       [ -5.99985908,  -2.99999926,  -1.        ,   0.        ],\n",
       "       [ -2.99997376,  -1.99995613,  -2.99988659,  -1.        ],\n",
       "       [-16.52798533, -15.99999361, -16.68689627, -16.74106951],\n",
       "       [-15.81380556, -14.9999983 , -15.70491494, -16.49829052],\n",
       "       [-14.87581266, -13.99999949, -14.6716515 , -15.70310902],\n",
       "       [-13.86420762, -12.99999985, -13.76585057, -14.70344413],\n",
       "       [-12.87727776, -11.99999995, -12.83143515, -13.88352824],\n",
       "       [-11.90066259, -10.99999999, -11.94377974, -12.86524792],\n",
       "       [-10.98527425, -10.        , -10.94995981, -11.93847024],\n",
       "       [ -9.97590721,  -9.        ,  -9.963567  , -10.97999549],\n",
       "       [ -8.99588364,   0.        ,  -8.9984772 ,  -9.99863942],\n",
       "       [  0.        ,  -1.        ,  -1.        ,  -8.99751253],\n",
       "       [ -4.99985183,  -2.        ,  -2.99980248,  -5.99939771],\n",
       "       [ -2.        ,  -2.99985573,  -2.99992593,  -2.99978303],\n",
       "       [-16.75556418, -15.99999348, -16.56676669, -16.70137346],\n",
       "       [-15.80311994, -14.99999843, -15.8065104 , -16.5344463 ],\n",
       "       [-14.9128533 , -13.99999953, -14.72174036, -15.56079022],\n",
       "       [-13.88883087, -12.99999983, -13.89434839, -14.7115718 ],\n",
       "       [-12.90556561, -11.99999995, -12.879479  , -13.90385369],\n",
       "       [-11.90500386, -10.99999998, -11.93554462, -12.86392281],\n",
       "       [-10.9772212 ,  -9.99999999, -10.95154102, -11.9347757 ],\n",
       "       [ -9.94352253,  -9.        ,  -9.98535687, -10.9270759 ],\n",
       "       [ -8.9970807 ,  -5.99988663,  -1.        ,  -9.99574489],\n",
       "       [ -5.99978684,  -2.99992912,  -1.99999161,  -1.        ],\n",
       "       [ -1.        ,  -2.99996815,  -1.99992357,  -1.        ],\n",
       "       [ -2.99998798,  -2.99993098,  -2.99977084,  -2.        ]])"
      ]
     },
     "execution_count": 4,
     "metadata": {},
     "output_type": "execute_result"
    }
   ],
   "source": [
    "print('Q values')\n",
    "env1.getQ()"
   ]
  },
  {
   "cell_type": "code",
   "execution_count": 5,
   "metadata": {},
   "outputs": [
    {
     "name": "stdout",
     "output_type": "stream",
     "text": [
      "Policy Optimal. N, E, S, W = 0, 1, 2, 3\n"
     ]
    },
    {
     "data": {
      "text/plain": [
       "array([[1., 1., 1., 1., 1., 1., 1., 1., 1., 1., 1., 2.],\n",
       "       [1., 1., 1., 1., 1., 1., 1., 1., 1., 1., 1., 2.],\n",
       "       [1., 1., 1., 1., 1., 1., 1., 1., 1., 1., 1., 2.],\n",
       "       [1., 1., 1., 1., 1., 1., 1., 1., 1., 2., 1., 2.],\n",
       "       [1., 1., 1., 1., 1., 1., 1., 1., 1., 1., 3., 3.],\n",
       "       [1., 1., 1., 1., 1., 1., 1., 1., 1., 0., 1., 0.],\n",
       "       [1., 1., 1., 1., 1., 1., 1., 1., 2., 3., 0., 3.]])"
      ]
     },
     "execution_count": 5,
     "metadata": {},
     "output_type": "execute_result"
    }
   ],
   "source": [
    "print('Policy Optimal. N, E, S, W = 0, 1, 2, 3')\n",
    "env1.getU()"
   ]
  },
  {
   "cell_type": "code",
   "execution_count": 6,
   "metadata": {
    "scrolled": true
   },
   "outputs": [
    {
     "name": "stdout",
     "output_type": "stream",
     "text": [
      "Graph depicting sum of values of Q table with increase in iterations\n"
     ]
    },
    {
     "data": {
      "text/plain": [
       "[<matplotlib.lines.Line2D at 0x7f8a844c6050>]"
      ]
     },
     "execution_count": 6,
     "metadata": {},
     "output_type": "execute_result"
    },
    {
     "data": {
      "image/png": "[encoded data removed]",
      "text/plain": [
       "<Figure size 432x288 with 1 Axes>"
      ]
     },
     "metadata": {
      "needs_background": "light"
     },
     "output_type": "display_data"
    }
   ],
   "source": [
    "print('Graph depicting sum of values of Q table with increase in iterations')\n",
    "plt.plot(Q_total)"
   ]
  },
  {
   "cell_type": "markdown",
   "metadata": {},
   "source": [
    "### Running for different epsilons"
   ]
  },
  {
   "cell_type": "code",
   "execution_count": 7,
   "metadata": {
    "scrolled": false
   },
   "outputs": [
    {
     "name": "stdout",
     "output_type": "stream",
     "text": [
      "Policy for epsilon = 0.1 \n",
      " [[1. 1. 1. 1. 1. 1. 1. 1. 1. 1. 1. 2.]\n",
      " [1. 1. 1. 1. 1. 1. 1. 1. 1. 1. 1. 2.]\n",
      " [1. 1. 1. 1. 1. 1. 1. 1. 1. 1. 1. 2.]\n",
      " [1. 1. 1. 1. 1. 1. 1. 1. 1. 2. 1. 2.]\n",
      " [1. 1. 1. 1. 1. 1. 1. 1. 1. 1. 3. 3.]\n",
      " [1. 1. 1. 1. 1. 1. 1. 1. 1. 0. 1. 0.]\n",
      " [1. 1. 1. 1. 1. 1. 1. 1. 2. 3. 0. 3.]]\n"
     ]
    },
    {
     "data": {
      "image/png": "[encoded data removed]",
      "text/plain": [
       "<Figure size 432x288 with 1 Axes>"
      ]
     },
     "metadata": {
      "needs_background": "light"
     },
     "output_type": "display_data"
    },
    {
     "name": "stdout",
     "output_type": "stream",
     "text": [
      "Policy for epsilon = 0.3 \n",
      " [[1. 1. 1. 1. 1. 1. 1. 1. 1. 1. 1. 2.]\n",
      " [1. 1. 1. 1. 1. 1. 1. 1. 1. 1. 1. 2.]\n",
      " [1. 1. 1. 1. 1. 1. 1. 1. 1. 1. 1. 2.]\n",
      " [1. 1. 1. 1. 1. 1. 1. 1. 1. 2. 1. 2.]\n",
      " [1. 1. 1. 1. 1. 1. 1. 1. 1. 1. 3. 3.]\n",
      " [1. 1. 1. 1. 1. 1. 1. 1. 1. 0. 1. 0.]\n",
      " [1. 1. 1. 1. 1. 1. 1. 1. 2. 3. 0. 3.]]\n"
     ]
    },
    {
     "data": {
      "image/png": "[encoded data removed]",
      "text/plain": [
       "<Figure size 432x288 with 1 Axes>"
      ]
     },
     "metadata": {
      "needs_background": "light"
     },
     "output_type": "display_data"
    },
    {
     "name": "stdout",
     "output_type": "stream",
     "text": [
      "Policy for epsilon = 0.5 \n",
      " [[1. 1. 1. 1. 1. 1. 1. 1. 1. 1. 1. 2.]\n",
      " [1. 1. 1. 1. 1. 1. 1. 1. 1. 1. 1. 2.]\n",
      " [1. 1. 1. 1. 1. 1. 1. 1. 1. 1. 1. 2.]\n",
      " [1. 1. 1. 1. 1. 1. 1. 1. 1. 2. 1. 2.]\n",
      " [1. 1. 1. 1. 1. 1. 1. 1. 1. 1. 3. 3.]\n",
      " [1. 1. 1. 1. 1. 1. 1. 1. 1. 0. 1. 0.]\n",
      " [1. 1. 1. 1. 1. 1. 1. 1. 2. 3. 0. 3.]]\n"
     ]
    },
    {
     "data": {
      "image/png": "[encoded data removed]",
      "text/plain": [
       "<Figure size 432x288 with 1 Axes>"
      ]
     },
     "metadata": {
      "needs_background": "light"
     },
     "output_type": "display_data"
    },
    {
     "name": "stdout",
     "output_type": "stream",
     "text": [
      "Policy for epsilon = 0.8 \n",
      " [[1. 1. 1. 1. 1. 1. 1. 1. 1. 1. 1. 2.]\n",
      " [1. 1. 1. 1. 1. 1. 1. 1. 1. 1. 1. 2.]\n",
      " [1. 1. 1. 1. 1. 1. 1. 1. 1. 1. 1. 2.]\n",
      " [1. 1. 1. 1. 1. 1. 1. 1. 1. 2. 1. 2.]\n",
      " [1. 1. 1. 1. 1. 1. 1. 1. 1. 1. 3. 3.]\n",
      " [1. 1. 1. 1. 1. 1. 1. 1. 1. 0. 1. 0.]\n",
      " [1. 1. 1. 1. 1. 1. 1. 1. 2. 3. 0. 3.]]\n"
     ]
    },
    {
     "data": {
      "image/png": "[encoded data removed]",
      "text/plain": [
       "<Figure size 432x288 with 1 Axes>"
      ]
     },
     "metadata": {
      "needs_background": "light"
     },
     "output_type": "display_data"
    },
    {
     "name": "stdout",
     "output_type": "stream",
     "text": [
      "Policy for epsilon = 0.95 \n",
      " [[1. 1. 1. 1. 1. 1. 1. 1. 1. 1. 1. 2.]\n",
      " [1. 1. 1. 1. 1. 1. 1. 1. 1. 1. 1. 2.]\n",
      " [1. 1. 1. 1. 1. 1. 1. 1. 1. 1. 1. 2.]\n",
      " [1. 1. 1. 1. 1. 1. 1. 1. 1. 2. 1. 2.]\n",
      " [1. 1. 1. 1. 1. 1. 1. 1. 1. 1. 3. 3.]\n",
      " [1. 1. 1. 1. 1. 1. 1. 1. 1. 0. 1. 0.]\n",
      " [1. 1. 1. 1. 1. 1. 1. 1. 2. 3. 0. 3.]]\n"
     ]
    },
    {
     "data": {
      "image/png": "[encoded data removed]",
      "text/plain": [
       "<Figure size 432x288 with 1 Axes>"
      ]
     },
     "metadata": {
      "needs_background": "light"
     },
     "output_type": "display_data"
    }
   ],
   "source": [
    "m, n = 7, 12\n",
    "winds = np.array([0, 0, 0, 1, 1, 1, 1, 2, 2, 1, 1, 0])\n",
    "max_iter = 1000\n",
    "dest = (3,9)\n",
    "for eps in [0.1, 0.3, 0.5, 0.8, 0.95]:\n",
    "    env1 = P1(m, n, winds, eps, max_iter, dest)\n",
    "    Q_total = env1.solve()\n",
    "    print('Policy for epsilon = {} \\n {}'.format(eps, env1.getU()))\n",
    "    plt.plot(Q_total)\n",
    "    plt.show()"
   ]
  },
  {
   "cell_type": "code",
   "execution_count": null,
   "metadata": {},
   "outputs": [],
   "source": []
  },
  {
   "cell_type": "code",
   "execution_count": null,
   "metadata": {},
   "outputs": [],
   "source": []
  },
  {
   "cell_type": "code",
   "execution_count": null,
   "metadata": {},
   "outputs": [],
   "source": []
  },
  {
   "cell_type": "code",
   "execution_count": null,
   "metadata": {},
   "outputs": [],
   "source": []
  },
  {
   "cell_type": "markdown",
   "metadata": {},
   "source": [
    "# Q2"
   ]
  },
  {
   "cell_type": "code",
   "execution_count": 8,
   "metadata": {},
   "outputs": [],
   "source": [
    "class P2():\n",
    "    def __init__(self, m, n, winds, eps, max_iter, destination):\n",
    "        self.Q_table = np.zeros((m*n, 4)) # 4 directions - N, E, S, W or up, right, down, left\n",
    "        self.nu_table = np.zeros((m*n, 4))\n",
    "        self.u_table = np.zeros((m*n,))\n",
    "        self.m = m\n",
    "        self.n = n\n",
    "        self.eps = eps\n",
    "        self.max_iter = max_iter\n",
    "        self.winds = winds\n",
    "        self.destination = destination\n",
    "                    \n",
    "    def solve(self):\n",
    "        converged = False\n",
    "        iter = 0\n",
    "        Q_total = []\n",
    "        while(converged == False and iter<self.max_iter):\n",
    "            \n",
    "            # iterating over all states\n",
    "            for i in range(1, 1 + self.m*self.n):\n",
    "                u = self.get_greedy_u(i, eps)\n",
    "                self.nu_table[i-1, u] +=1\n",
    "                \n",
    "                if(self.next_state(i, u) >=38 and self.next_state(i, u)<=47):\n",
    "                    self.Q_table[i-1, u] = self.Q_table[i-1, u] + self.a(self.nu_table[i-1, u])*(self.g(i, u) + self.max_u_Q(37)[1] - self.Q_table[i-1, u])\n",
    "                else:        \n",
    "                    self.Q_table[i-1, u] = self.Q_table[i-1, u] + self.a(self.nu_table[i-1, u])*(self.g(i, u) + self.max_u_Q(self.next_state(i, u))[1] - self.Q_table[i-1, u])\n",
    "                \n",
    "            iter+=1\n",
    "            Q_total.append(self.Q_table.sum())\n",
    "        \n",
    "        return Q_total\n",
    "    \n",
    "    def get_greedy_u(self, s, eps):\n",
    "        p = random.uniform(0, 1)\n",
    "        u_opti, Qbest = self.max_u_Q(s)\n",
    "\n",
    "        if(p>eps): #exploit\n",
    "            return u_opti\n",
    "        \n",
    "        else: #explore\n",
    "            u = self.get_random_valid_u(s, u_opti)\n",
    "            return u\n",
    "    \n",
    "    def get_random_valid_u(self, s, u_opti):\n",
    "\n",
    "        u_dash = random.randint(0, 3)\n",
    "        return u_dash\n",
    "\n",
    "    \n",
    "    def g(self, i, u):\n",
    "        next_i = self.next_state(i, u)\n",
    "        r, c = self.get_r_c(next_i)\n",
    "        if((r, c) == self.destination):\n",
    "            return 0\n",
    "        elif((next_i)<=47 and next_i>=38):\n",
    "            return -100\n",
    "        else:\n",
    "            return -1\n",
    "            \n",
    "    def a(self, n):   \n",
    "        return (1/n)**0.6\n",
    "#         return 1/n\n",
    "#         return 0.1\n",
    "    \n",
    "    def get_r_c(self, s):\n",
    "        # to get row and col number from s. Indexes r and c are 0 based\n",
    "        r = (s-1)//self.n\n",
    "        c = (s-1)%self.n\n",
    "        return r, c\n",
    "    \n",
    "    def get_s(self, r, c):\n",
    "        # to get s from row and col number\n",
    "        return (r*12 +c+1)\n",
    "    \n",
    "    \n",
    "    def check_pirate_state(self, s, u):\n",
    "#         print(s)\n",
    "#         print(u)\n",
    "#         print(self.next_state(s, u))\n",
    "        if(self.next_state(s, u) >=38 and self.next_state(s, u)<=47):\n",
    "            return 37\n",
    "        else:\n",
    "            return self.next_state(s, u)\n",
    "    \n",
    "    def next_state(self, s, u):\n",
    "        r, c = self.get_r_c(s)\n",
    "        if(u == 0):\n",
    "            return self.get_s(max(r-1-self.winds[c], 0), c)\n",
    "        elif(u == 1):\n",
    "            return self.get_s(max(r-self.winds[c], 0), min(c+1, 11))\n",
    "        elif(u == 2):\n",
    "            return self.get_s(min(max(r+1-self.winds[c], 0), 3), c)\n",
    "        elif(u == 3):\n",
    "            return self.get_s(max(r-self.winds[c], 0), max(c-1, 0))\n",
    "        \n",
    "            \n",
    "    \n",
    "    def max_u_Q(self, i):\n",
    "        r, c = self.get_r_c(i)\n",
    "        ubest = -1\n",
    "        Qbest = -np.inf\n",
    "        for u in range(4):\n",
    "            if(self.Q_table[i-1, u]>=Qbest):\n",
    "                Qbest = self.Q_table[i-1, u]\n",
    "                ubest = u\n",
    "                \n",
    "        return ubest, self.Q_table[i-1, ubest]\n",
    "    \n",
    "    def getQ(self):\n",
    "        return self.Q_table\n",
    "    \n",
    "    def getU(self):\n",
    "        \n",
    "        policy = np.zeros((self.m, self.n))\n",
    "        for r in range(self.m):\n",
    "            for c in range(self.n):\n",
    "                policy[r, c] = np.argmax(self.Q_table[self.get_s(r, c)-1])\n",
    "        return policy\n",
    "    \n",
    "    def getnu(self):\n",
    "        return self.nu_table"
   ]
  },
  {
   "cell_type": "code",
   "execution_count": 9,
   "metadata": {},
   "outputs": [],
   "source": [
    "#m*n grid, m = rows, n = cols\n",
    "m, n = 4, 12\n",
    "#winds are 0 in this case\n",
    "winds = np.array([0, 0, 0, 0, 0, 0, 0, 0, 0, 0, 0, 0])\n",
    "eps = 0.2\n",
    "max_iter = 5000\n",
    "dest = (3,11)\n",
    "\n",
    "env2 = P2(m, n, winds, eps, max_iter, dest)\n",
    "Q_total = env2.solve()"
   ]
  },
  {
   "cell_type": "code",
   "execution_count": 10,
   "metadata": {},
   "outputs": [
    {
     "name": "stdout",
     "output_type": "stream",
     "text": [
      "Q values\n"
     ]
    },
    {
     "data": {
      "text/plain": [
       "array([[ -13.99997073,  -13.        ,  -13.        ,  -13.99997471],\n",
       "       [ -12.99997459,  -12.        ,  -12.        ,  -13.99997103],\n",
       "       [ -11.99999148,  -11.        ,  -11.        ,  -12.99996888],\n",
       "       [ -10.99999831,  -10.        ,  -10.        ,  -11.99999291],\n",
       "       [  -9.99999749,   -9.        ,   -9.        ,  -10.9999981 ],\n",
       "       [  -8.99999783,   -8.        ,   -8.        ,   -9.99999754],\n",
       "       [  -7.99999966,   -7.        ,   -7.        ,   -8.99999933],\n",
       "       [  -6.99999983,   -6.        ,   -6.        ,   -7.99999973],\n",
       "       [  -5.99999995,   -5.        ,   -5.        ,   -6.99999957],\n",
       "       [  -4.99999998,   -4.        ,   -4.        ,   -5.99999987],\n",
       "       [  -3.99999999,   -3.        ,   -3.        ,   -4.99999999],\n",
       "       [  -3.        ,   -3.        ,   -2.        ,   -4.        ],\n",
       "       [ -13.99990334,  -12.        ,  -12.        ,  -12.99998671],\n",
       "       [ -12.9999619 ,  -11.        ,  -11.        ,  -12.99998186],\n",
       "       [ -11.99998237,  -10.        ,  -10.        ,  -11.99998693],\n",
       "       [ -10.99999692,   -9.        ,   -9.        ,  -10.99999293],\n",
       "       [  -9.99999881,   -8.        ,   -8.        ,   -9.9999985 ],\n",
       "       [  -8.99999888,   -7.        ,   -7.        ,   -8.99999956],\n",
       "       [  -7.99999953,   -6.        ,   -6.        ,   -7.99999992],\n",
       "       [  -6.99999996,   -5.        ,   -5.        ,   -6.99999993],\n",
       "       [  -5.99999997,   -4.        ,   -4.        ,   -5.99999997],\n",
       "       [  -5.        ,   -3.        ,   -3.        ,   -4.99999999],\n",
       "       [  -4.        ,   -2.        ,   -2.        ,   -3.99999999],\n",
       "       [  -3.        ,   -2.        ,   -1.        ,   -3.        ],\n",
       "       [ -12.99993815,  -11.        ,  -12.9999966 ,  -11.99998333],\n",
       "       [ -11.99998519,  -10.        , -111.99999996,  -11.99996484],\n",
       "       [ -10.99999204,   -9.        , -111.99999909,  -10.99999386],\n",
       "       [  -9.9999956 ,   -8.        , -111.99999982,   -9.99999835],\n",
       "       [  -8.99999948,   -7.        , -111.99999992,   -8.99999921],\n",
       "       [  -7.99999942,   -6.        , -111.9999994 ,   -7.99999987],\n",
       "       [  -6.99999992,   -5.        , -111.99999986,   -6.99999992],\n",
       "       [  -5.99999999,   -4.        , -111.99999983,   -5.99999993],\n",
       "       [  -4.99999999,   -3.        , -111.99999936,   -4.99999999],\n",
       "       [  -4.        ,   -2.        , -111.99999989,   -4.        ],\n",
       "       [  -3.        ,   -1.        , -111.99999989,   -3.        ],\n",
       "       [  -2.        ,   -1.        ,    0.        ,   -2.        ],\n",
       "       [ -12.        , -111.99999985,  -12.99998801,  -12.99997026],\n",
       "       [ -11.        , -111.99999986, -111.99999958,  -12.99989611],\n",
       "       [ -10.        , -111.99999977, -111.99999973, -111.99999909],\n",
       "       [  -9.        , -111.99999957, -111.99999987, -111.99999994],\n",
       "       [  -8.        , -111.99999997, -111.99999907, -111.9999998 ],\n",
       "       [  -7.        , -111.9999998 , -111.99999976, -111.99999992],\n",
       "       [  -6.        , -111.99999967, -111.99999981, -111.99999986],\n",
       "       [  -5.        , -111.99999987, -111.999999  , -111.99999979],\n",
       "       [  -4.        , -111.99999989, -111.99999992, -111.9999996 ],\n",
       "       [  -3.        , -111.99999996, -111.99999994, -111.99999977],\n",
       "       [  -2.        ,    0.        , -111.99999979, -111.99999958],\n",
       "       [  -1.        ,    0.        ,    0.        , -111.99999992]])"
      ]
     },
     "execution_count": 10,
     "metadata": {},
     "output_type": "execute_result"
    }
   ],
   "source": [
    "print('Q values')\n",
    "env2.getQ()"
   ]
  },
  {
   "cell_type": "code",
   "execution_count": 11,
   "metadata": {},
   "outputs": [
    {
     "name": "stdout",
     "output_type": "stream",
     "text": [
      "Policy Optimal. N, E, S, W = 0, 1, 2, 3\n"
     ]
    },
    {
     "data": {
      "text/plain": [
       "array([[1., 1., 1., 1., 1., 1., 1., 1., 1., 1., 2., 2.],\n",
       "       [1., 1., 1., 1., 1., 1., 1., 1., 1., 1., 1., 2.],\n",
       "       [1., 1., 1., 1., 1., 1., 1., 1., 1., 1., 1., 2.],\n",
       "       [0., 0., 0., 0., 0., 0., 0., 0., 0., 0., 1., 1.]])"
      ]
     },
     "execution_count": 11,
     "metadata": {},
     "output_type": "execute_result"
    }
   ],
   "source": [
    "print('Policy Optimal. N, E, S, W = 0, 1, 2, 3')\n",
    "env2.getU()"
   ]
  },
  {
   "cell_type": "code",
   "execution_count": 12,
   "metadata": {
    "scrolled": true
   },
   "outputs": [
    {
     "name": "stdout",
     "output_type": "stream",
     "text": [
      "Graph depicting sum of values of Q table with increase in iterations\n"
     ]
    },
    {
     "data": {
      "text/plain": [
       "[<matplotlib.lines.Line2D at 0x7f8a841c7e10>]"
      ]
     },
     "execution_count": 12,
     "metadata": {},
     "output_type": "execute_result"
    },
    {
     "data": {
      "image/png": "[encoded data removed]",
      "text/plain": [
       "<Figure size 432x288 with 1 Axes>"
      ]
     },
     "metadata": {
      "needs_background": "light"
     },
     "output_type": "display_data"
    }
   ],
   "source": [
    "print('Graph depicting sum of values of Q table with increase in iterations')\n",
    "plt.plot(Q_total)"
   ]
  },
  {
   "cell_type": "markdown",
   "metadata": {},
   "source": [
    "### Running for different epsilons"
   ]
  },
  {
   "cell_type": "code",
   "execution_count": 13,
   "metadata": {
    "scrolled": false
   },
   "outputs": [
    {
     "name": "stdout",
     "output_type": "stream",
     "text": [
      "Policy for epsilon = 0.1 \n",
      " [[1. 1. 1. 1. 1. 1. 1. 1. 1. 1. 1. 2.]\n",
      " [1. 1. 1. 1. 1. 1. 1. 1. 1. 1. 1. 2.]\n",
      " [1. 1. 1. 1. 1. 1. 1. 1. 1. 1. 1. 2.]\n",
      " [0. 0. 0. 1. 1. 1. 1. 1. 1. 1. 1. 1.]]\n"
     ]
    },
    {
     "data": {
      "image/png": "[encoded data removed]",
      "text/plain": [
       "<Figure size 432x288 with 1 Axes>"
      ]
     },
     "metadata": {
      "needs_background": "light"
     },
     "output_type": "display_data"
    },
    {
     "name": "stdout",
     "output_type": "stream",
     "text": [
      "Policy for epsilon = 0.3 \n",
      " [[1. 1. 1. 1. 1. 1. 1. 1. 1. 1. 1. 2.]\n",
      " [1. 1. 1. 1. 1. 1. 1. 1. 1. 1. 1. 2.]\n",
      " [1. 1. 1. 1. 1. 1. 1. 1. 1. 1. 1. 2.]\n",
      " [0. 0. 0. 1. 1. 1. 1. 1. 1. 1. 1. 1.]]\n"
     ]
    },
    {
     "data": {
      "image/png": "[encoded data removed]",
      "text/plain": [
       "<Figure size 432x288 with 1 Axes>"
      ]
     },
     "metadata": {
      "needs_background": "light"
     },
     "output_type": "display_data"
    },
    {
     "name": "stdout",
     "output_type": "stream",
     "text": [
      "Policy for epsilon = 0.5 \n",
      " [[1. 1. 1. 1. 1. 1. 1. 1. 1. 1. 1. 2.]\n",
      " [1. 1. 1. 1. 1. 1. 1. 1. 1. 1. 1. 2.]\n",
      " [1. 1. 1. 1. 1. 1. 1. 1. 1. 1. 1. 2.]\n",
      " [0. 0. 0. 1. 1. 1. 1. 1. 1. 1. 1. 1.]]\n"
     ]
    },
    {
     "data": {
      "image/png": "[encoded data removed]",
      "text/plain": [
       "<Figure size 432x288 with 1 Axes>"
      ]
     },
     "metadata": {
      "needs_background": "light"
     },
     "output_type": "display_data"
    },
    {
     "name": "stdout",
     "output_type": "stream",
     "text": [
      "Policy for epsilon = 0.8 \n",
      " [[1. 1. 1. 1. 1. 1. 1. 1. 1. 1. 1. 2.]\n",
      " [1. 1. 1. 1. 1. 1. 1. 1. 1. 1. 1. 2.]\n",
      " [1. 1. 1. 1. 1. 1. 1. 1. 1. 1. 1. 2.]\n",
      " [0. 0. 0. 1. 1. 1. 1. 1. 1. 1. 1. 1.]]\n"
     ]
    },
    {
     "data": {
      "image/png": "[encoded data removed]",
      "text/plain": [
       "<Figure size 432x288 with 1 Axes>"
      ]
     },
     "metadata": {
      "needs_background": "light"
     },
     "output_type": "display_data"
    },
    {
     "name": "stdout",
     "output_type": "stream",
     "text": [
      "Policy for epsilon = 0.95 \n",
      " [[1. 1. 1. 1. 1. 1. 1. 1. 1. 1. 1. 2.]\n",
      " [1. 1. 1. 1. 1. 1. 1. 1. 1. 1. 1. 2.]\n",
      " [1. 1. 1. 1. 1. 1. 1. 1. 1. 1. 1. 2.]\n",
      " [0. 0. 0. 1. 1. 1. 1. 1. 1. 1. 1. 1.]]\n"
     ]
    },
    {
     "data": {
      "image/png": "[encoded data removed]",
      "text/plain": [
       "<Figure size 432x288 with 1 Axes>"
      ]
     },
     "metadata": {
      "needs_background": "light"
     },
     "output_type": "display_data"
    },
    {
     "name": "stdout",
     "output_type": "stream",
     "text": [
      "Policy for epsilon = 0.9999 \n",
      " [[1. 1. 1. 1. 1. 1. 1. 1. 1. 1. 1. 2.]\n",
      " [1. 1. 1. 1. 1. 1. 1. 1. 1. 1. 1. 2.]\n",
      " [1. 1. 1. 1. 1. 1. 1. 1. 1. 1. 1. 2.]\n",
      " [0. 0. 0. 1. 1. 1. 1. 1. 1. 1. 1. 1.]]\n"
     ]
    },
    {
     "data": {
      "image/png": "[encoded data removed]",
      "text/plain": [
       "<Figure size 432x288 with 1 Axes>"
      ]
     },
     "metadata": {
      "needs_background": "light"
     },
     "output_type": "display_data"
    }
   ],
   "source": [
    "m, n = 4, 12\n",
    "winds = np.array([0, 0, 0, 1, 1, 1, 1, 2, 2, 1, 1, 0])\n",
    "max_iter = 1000\n",
    "destination = (3,11)\n",
    "for eps in [0.1, 0.3, 0.5, 0.8, 0.95, 0.9999]:\n",
    "    env2 = P2(m, n, winds, eps, max_iter, destination)\n",
    "    Q_total = env2.solve()\n",
    "    print('Policy for epsilon = {} \\n {}'.format(eps, env2.getU()))\n",
    "    plt.plot(Q_total)\n",
    "    plt.show()"
   ]
  },
  {
   "cell_type": "markdown",
   "metadata": {},
   "source": [
    "### Discrepancy faced in epsilong greedy for problem 2"
   ]
  },
  {
   "cell_type": "code",
   "execution_count": 14,
   "metadata": {},
   "outputs": [],
   "source": [
    "#m*n grid, m = rows, n = cols\n",
    "m, n = 4, 12\n",
    "#winds are 0 in this case\n",
    "winds = np.array([0, 0, 0, 0, 0, 0, 0, 0, 0, 0, 0, 0])\n",
    "eps = 0.2\n",
    "max_iter = 1000\n",
    "dest = (3,11)\n",
    "\n",
    "env2 = P2(m, n, winds, eps, max_iter, dest)\n",
    "Q_total = env2.solve()"
   ]
  },
  {
   "cell_type": "code",
   "execution_count": 15,
   "metadata": {},
   "outputs": [
    {
     "name": "stdout",
     "output_type": "stream",
     "text": [
      "Policy Optimal. N, E, S, W = 0, 1, 2, 3\n",
      "[[2. 1. 1. 1. 1. 1. 1. 2. 2. 1. 2. 2.]\n",
      " [1. 2. 2. 1. 1. 2. 2. 1. 1. 1. 1. 2.]\n",
      " [1. 1. 1. 1. 1. 1. 1. 1. 1. 1. 1. 2.]\n",
      " [0. 0. 0. 0. 0. 0. 0. 0. 0. 0. 1. 1.]]\n"
     ]
    }
   ],
   "source": [
    "print('Policy Optimal. N, E, S, W = 0, 1, 2, 3')\n",
    "U = env2.getU()\n",
    "print(U)"
   ]
  },
  {
   "cell_type": "code",
   "execution_count": 16,
   "metadata": {},
   "outputs": [],
   "source": [
    "rewards = []\n",
    "eps = 0.5\n",
    "# flag = True\n",
    "for episode in range(1000):\n",
    "    sum = 0\n",
    "    s = 37 #A\n",
    "#     i = 0\n",
    "    while(s!=48):\n",
    "#         i+=1\n",
    "        p = random.uniform(0, 1)\n",
    "        u = 0\n",
    "        r, c = env2.get_r_c(s)\n",
    "        u_opti = U[r, c]\n",
    "        if(p>eps): #exploit\n",
    "            u = u_opti\n",
    "        \n",
    "        else: #explore\n",
    "            u_ = env2.get_random_valid_u(s, u_opti)\n",
    "            u = u_\n",
    "        reward = env2.g(s, u)\n",
    "        s = env2.check_pirate_state(s, u)\n",
    "        sum+=reward\n",
    "#         if(flag == True):\n",
    "#             print(s)\n",
    "#             print('i = ', i)\n",
    "#     flag = False\n",
    "    rewards.append(sum)\n"
   ]
  },
  {
   "cell_type": "code",
   "execution_count": 17,
   "metadata": {},
   "outputs": [
    {
     "name": "stdout",
     "output_type": "stream",
     "text": [
      "[-990, -127, -1937, -249, -868, -641, -656, -442, -27, -1514, -1500, -662, -1085, -250, -34, -118, -142, -124, -669, -233, -251, -376, -773, -27, -241, -19, -879, -552, -127, -580, -20, -446, -257, -326, -118, -3748, -122, -226, -128, -772, -118, -344, -566, -237, -127, -455, -1264, -349, -349, -1381, -663, -2122, -128, -999, -232, -333, -116, -138, -39, -1524, -452, -38, -446, -458, -27, -783, -347, -30, -862, -1003, -20, -790, -262, -361, -125, -2207, -130, -117, -1001, -243, -1255, -224, -449, -246, -25, -161, -26, -775, -240, -456, -13, -124, -989, -671, -447, -330, -158, -528, -134, -21, -14, -23, -562, -122, -33, -1466, -594, -435, -23, -161, -847, -131, -442, -126, -569, -245, -462, -1321, -26, -131, -578, -1587, -344, -116, -1359, -989, -25, -18, -275, -323, -860, -18, -14, -254, -24, -23, -454, -20, -270, -261, -973, -746, -228, -705, -673, -129, -805, -123, -116, -438, -2278, -903, -24, -1092, -233, -22, -780, -884, -433, -382, -747, -14, -672, -786, -27, -440, -1211, -911, -38, -891, -243, -668, -235, -1853, -537, -680, -680, -354, -131, -242, -550, -15, -239, -2004, -1072, -361, -358, -127, -1793, -266, -36, -245, -656, -30, -35, -155, -1092, -242, -130, -14, -27, -222, -1613, -36, -345, -135, -878, -118, -1497, -322, -2385, -21, -3903, -357, -243, -16, -904, -469, -33, -1184, -1089, -1439, -490, -24, -358, -130, -31, -1072, -131, -123, -882, -140, -659, -1745, -466, -679, -869, -141, -238, -126, -453, -232, -678, -679, -29, -227, -13, -21, -540, -22, -457, -245, -2059, -577, -25, -868, -137, -27, -14, -683, -865, -686, -759, -1245, -235, -22, -1014, -246, -449, -1076, -786, -701, -27, -1631, -30, -887, -365, -776, -240, -1355, -2034, -367, -14, -35, -34, -35, -552, -686, -765, -883, -123, -344, -361, -662, -250, -790, -21, -238, -1186, -673, -462, -18, -28, -37, -122, -1358, -121, -138, -681, -747, -551, -19, -762, -236, -2108, -14, -127, -327, -24, -21, -566, -451, -328, -780, -343, -142, -344, -23, -1203, -352, -148, -24, -1164, -27, -973, -763, -235, -135, -25, -242, -1824, -116, -27, -252, -553, -676, -224, -31, -467, -239, -1309, -17, -124, -233, -2837, -167, -325, -37, -118, -230, -139, -1063, -953, -1109, -548, -618, -247, -886, -1841, -450, -29, -458, -142, -659, -1865, -348, -335, -43, -19, -18, -131, -345, -15, -230, -33, -32, -340, -674, -912, -15, -1751, -127, -26, -336, -1622, -33, -18, -1794, -439, -2344, -692, -135, -574, -559, -1000, -1652, -460, -545, -706, -144, -898, -1922, -116, -348, -674, -229, -774, -228, -906, -453, -334, -565, -130, -567, -23, -331, -236, -447, -440, -235, -233, -23, -1653, -131, -45, -671, -242, -571, -18, -39, -230, -1243, -30, -135, -33, -18, -746, -898, -432, -663, -131, -18, -120, -1998, -350, -699, -974, -770, -1567, -664, -20, -769, -876, -244, -1227, -527, -984, -2201, -899, -1191, -333, -226, -29, -117, -4427, -29, -339, -130, -1442, -459, -450, -15, -233, -134, -1102, -440, -677, -351, -1427, -370, -1326, -349, -583, -924, -237, -343, -30, -123, -15, -29, -16, -3832, -574, -552, -984, -30, -692, -263, -447, -1193, -131, -26, -768, -955, -342, -20, -661, -902, -1411, -990, -124, -228, -121, -539, -1128, -123, -126, -138, -338, -26, -1104, -142, -252, -1190, -27, -237, -28, -235, -129, -742, -1550, -28, -452, -673, -33, -162, -122, -333, -652, -690, -27, -641, -574, -23, -354, -135, -342, -139, -1413, -345, -354, -28, -235, -18, -232, -118, -1051, -36, -37, -1054, -561, -251, -230, -226, -881, -241, -1271, -1911, -1222, -768, -1091, -41, -799, -222, -1332, -692, -343, -234, -1326, -18, -475, -330, -663, -150, -766, -141, -353, -20, -248, -1435, -126, -1526, -1947, -554, -354, -597, -254, -2010, -998, -238, -1241, -1404, -910, -425, -41, -489, -572, -2129, -444, -136, -790, -335, -980, -230, -447, -1872, -1820, -23, -468, -135, -237, -125, -1830, -884, -22, -830, -151, -481, -131, -1098, -321, -580, -1337, -2916, -63, -571, -1170, -133, -445, -562, -20, -438, -875, -879, -141, -14, -578, -1341, -649, -437, -1074, -473, -2675, -451, -14, -256, -592, -362, -34, -236, -761, -682, -23, -120, -255, -688, -994, -548, -498, -1422, -24, -247, -976, -1224, -145, -232, -892, -226, -1081, -133, -121, -1407, -128, -337, -772, -230, -803, -19, -658, -560, -47, -123, -240, -244, -136, -970, -788, -348, -18, -230, -803, -250, -366, -19, -35, -141, -497, -1088, -23, -32, -466, -439, -360, -2689, -786, -863, -18, -572, -437, -16, -1856, -1219, -383, -144, -1970, -1488, -134, -778, -29, -132, -660, -448, -36, -244, -240, -1325, -238, -24, -116, -228, -329, -675, -16, -447, -487, -2837, -22, -653, -129, -140, -151, -27, -687, -15, -1010, -22, -35, -24, -658, -243, -21, -664, -673, -898, -367, -588, -143, -237, -138, -772, -558, -120, -231, -1419, -120, -30, -337, -748, -794, -240, -452, -183, -219, -130, -372, -684, -129, -153, -237, -1426, -122, -686, -547, -364, -428, -18, -567, -21, -1806, -668, -360, -134, -1683, -235, -969, -693, -26, -480, -347, -26, -970, -1328, -339, -1395, -577, -240, -128, -1768, -1597, -1014, -31, -135, -1333, -481, -244, -449, -131, -455, -1223, -26, -231, -123, -784, -122, -1299, -878, -672, -993, -349, -474, -33, -1135, -1544, -1208, -22, -672, -238, -1285, -338, -1205, -16, -127, -127, -134, -853, -135, -799, -1764, -935, -3162, -53, -246, -135, -570, -873, -1972, -30, -127, -221, -663, -464, -28, -1756, -1004, -352, -34, -266, -36, -1274, -1742, -122, -130, -141, -691, -125, -329, -562, -1530, -329, -2490, -561, -233, -150, -466, -1322, -1660, -22, -1694, -321, -125, -131, -336, -461, -14, -356, -457, -2996, -1337, -351, -23, -226, -134, -332, -137, -1917, -1633, -697, -334, -597, -331, -136, -147, -14, -37, -433, -460, -445, -352, -443, -335, -27, -1032, -397, -374, -132, -1287, -463, -2861, -549, -779, -568, -2507, -33, -1056, -37, -234, -2030, -231, -30, -456, -552, -26, -229, -2514, -142, -33, -128, -770, -565, -1299, -227, -337, -962, -462, -676, -2176, -134, -576, -21, -480, -576, -997, -1096, -126, -143, -454, -580, -227, -29, -690, -265, -15, -119, -349, -332, -248, -132, -483, -364, -940]\n"
     ]
    }
   ],
   "source": [
    "print(rewards)"
   ]
  },
  {
   "cell_type": "code",
   "execution_count": 18,
   "metadata": {},
   "outputs": [
    {
     "name": "stdout",
     "output_type": "stream",
     "text": [
      "-547.357\n"
     ]
    }
   ],
   "source": [
    "print(np.array(rewards).mean())"
   ]
  },
  {
   "cell_type": "markdown",
   "metadata": {},
   "source": [
    "## The above rewards are much higher than -12 which is the optimal reward"
   ]
  },
  {
   "cell_type": "code",
   "execution_count": null,
   "metadata": {},
   "outputs": [],
   "source": []
  }
 ],
 "metadata": {
  "kernelspec": {
   "display_name": "Python 3",
   "language": "python",
   "name": "python3"
  },
  "language_info": {
   "codemirror_mode": {
    "name": "ipython",
    "version": 3
   },
   "file_extension": ".py",
   "mimetype": "text/x-python",
   "name": "python",
   "nbconvert_exporter": "python",
   "pygments_lexer": "ipython3",
   "version": "3.7.6"
  }
 },
 "nbformat": 4,
 "nbformat_minor": 4
}
