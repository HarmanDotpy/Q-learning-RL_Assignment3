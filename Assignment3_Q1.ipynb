{
 "cells": [
  {
   "cell_type": "code",
   "execution_count": 499,
   "metadata": {},
   "outputs": [],
   "source": [
    "import numpy as np\n",
    "import matplotlib.pyplot as plt\n",
    "import random"
   ]
  },
  {
   "cell_type": "code",
   "execution_count": 507,
   "metadata": {},
   "outputs": [],
   "source": [
    "class P1():\n",
    "    def __init__(self, m, n, winds, eps, max_iter):\n",
    "        self.Q_table = np.zeros((m*n, 4)) # 4 directions - N, E, S, W or up, right, down, left\n",
    "        self.nu_table = np.zeros((m*n, 4))\n",
    "        self.u_table = np.zeros((m*n,))\n",
    "        self.m = m\n",
    "        self.n = n\n",
    "        self.eps = eps\n",
    "        self.max_iter = max_iter\n",
    "        self.winds = winds\n",
    "                    \n",
    "    def solve(self):\n",
    "        converged = False\n",
    "        iter = 0\n",
    "        Q_total = []\n",
    "        while(converged == False and iter<self.max_iter):\n",
    "            \n",
    "            # iterating over all states\n",
    "            for i in range(1, 1 + self.m*self.n):\n",
    "                u = self.get_greedy_u(i, eps)\n",
    "                self.nu_table[i-1, u] +=1\n",
    "                self.Q_table[i-1, u] = self.Q_table[i-1, u] + self.a(self.nu_table[i-1, u])*(self.g(i, u) + self.max_u_Q(self.next_state(i, u))[1] - self.Q_table[i-1, u])\n",
    "                \n",
    "            iter+=1\n",
    "            Q_total.append(self.Q_table.sum())\n",
    "        \n",
    "        return Q_total\n",
    "    \n",
    "    def get_greedy_u(self, s, eps):\n",
    "        p = random.uniform(0, 1)\n",
    "        u_opti, Qbest = self.max_u_Q(s)\n",
    "\n",
    "        if(p>eps): #exploit\n",
    "            return u_opti\n",
    "        \n",
    "        else: #explore\n",
    "            u = self.get_random_valid_u(s, u_opti)\n",
    "            return u\n",
    "    \n",
    "    def get_random_valid_u(self, s, u_opti):\n",
    "        while(True):\n",
    "            u_dash = random.randint(0, 3)\n",
    "            return u_dash\n",
    "        \n",
    "    \n",
    "    def g(self, i, u):\n",
    "        r, c = self.get_r_c(self.next_state(i, u))\n",
    "        if((r, c) != (3,9)):\n",
    "            return -1\n",
    "        else:\n",
    "            return 0\n",
    "            \n",
    "    def a(self, n):   \n",
    "        return (1/n)**0.6\n",
    "#         return 0.1\n",
    "    \n",
    "    def get_r_c(self, s):\n",
    "        # to get row and col number from s. Indexes r and c are 0 based\n",
    "        r = (s-1)//self.n\n",
    "        c = (s-1)%self.n\n",
    "        return r, c\n",
    "    \n",
    "    def get_s(self, r, c):\n",
    "        # to get s from row and col number\n",
    "        return (r*12 +c+1)\n",
    "    \n",
    "    \n",
    "    def next_state(self, s, u):\n",
    "        r, c = self.get_r_c(s)\n",
    "        if(u == 0):\n",
    "            return self.get_s(max(r-1-self.winds[c], 0), c)\n",
    "        elif(u == 1):\n",
    "            return self.get_s(max(r-self.winds[c], 0), min(c+1, 11))\n",
    "        elif(u == 2):\n",
    "#             print(self.winds)\n",
    "#             print(r)\n",
    "            return self.get_s(min(max(r+1-self.winds[c], 0), 6), c)\n",
    "        elif(u == 3):\n",
    "            return self.get_s(max(r-self.winds[c], 0), max(c-1, 0))\n",
    "        \n",
    "            \n",
    "    \n",
    "    def max_u_Q(self, i):\n",
    "        r, c = self.get_r_c(i)\n",
    "        ubest = -1\n",
    "        Qbest = -np.inf\n",
    "        for u in range(4):\n",
    "            if(self.Q_table[i-1, u]>=Qbest):\n",
    "                Qbest = self.Q_table[i-1, u]\n",
    "                ubest = u\n",
    "                \n",
    "        return ubest, self.Q_table[i-1, ubest]\n",
    "    \n",
    "    def getQ(self):\n",
    "        return self.Q_table\n",
    "    \n",
    "    def getU(self):\n",
    "        \n",
    "        policy = np.zeros((self.m, self.n))\n",
    "        for r in range(self.m):\n",
    "            for c in range(self.n):\n",
    "                policy[r, c] = np.argmax(self.Q_table[self.get_s(r, c)-1])\n",
    "        return policy\n",
    "    \n",
    "    def getnu(self):\n",
    "        return self.nu_table"
   ]
  },
  {
   "cell_type": "code",
   "execution_count": 534,
   "metadata": {},
   "outputs": [],
   "source": [
    "#m*n grid, m = rows, n = cols\n",
    "m, n = 7, 12\n",
    "winds = np.array([0, 0, 0, 1, 1, 1, 1, 2, 2, 1, 1, 0])\n",
    "eps = 0.2\n",
    "max_iter = 1000\n",
    "env1 = P1(m, n, winds, eps, max_iter)\n",
    "Q_total = env1.solve()"
   ]
  },
  {
   "cell_type": "code",
   "execution_count": 535,
   "metadata": {},
   "outputs": [
    {
     "name": "stdout",
     "output_type": "stream",
     "text": [
      "Q values\n"
     ]
    },
    {
     "data": {
      "text/plain": [
       "array([[-16.70797324, -15.99999001, -16.54345641, -16.65988055],\n",
       "       [-15.66434296, -14.9999976 , -15.73030934, -16.55206714],\n",
       "       [-14.82703675, -13.99999931, -14.80931357, -15.45711478],\n",
       "       [-13.85051884, -12.99999981, -13.87406972, -14.76072083],\n",
       "       [-12.91011552, -11.99999995, -12.92772366, -13.89434485],\n",
       "       [-11.89235208, -10.99999998, -11.93995752, -12.86082068],\n",
       "       [-10.97562295, -10.        , -10.97714299, -11.91105529],\n",
       "       [ -9.98467701,  -9.        ,  -9.97221656, -10.94094398],\n",
       "       [ -8.97191589,  -8.        ,  -8.99102224,  -9.94574159],\n",
       "       [ -7.989501  ,  -7.        ,  -7.98912854,  -8.96425276],\n",
       "       [ -6.99713475,  -6.        ,  -6.99566068,  -7.98749196],\n",
       "       [ -5.99478375,  -5.99818461,  -5.        ,  -6.99770074],\n",
       "       [-16.55997208, -15.99998945, -16.62849677, -16.67365126],\n",
       "       [-15.816533  , -14.9999974 , -15.81840905, -16.28653542],\n",
       "       [-14.8671138 , -13.99999931, -14.83483237, -15.60058748],\n",
       "       [-13.78622181, -12.99999981, -13.77651424, -14.87153626],\n",
       "       [-12.86891001, -11.99999995, -12.91602038, -13.7579263 ],\n",
       "       [-11.92159219, -10.99999999, -11.93443303, -12.79111457],\n",
       "       [-10.95052837, -10.        , -10.95847104, -11.86312058],\n",
       "       [ -9.97994038,  -9.        ,  -9.98303669, -10.93197926],\n",
       "       [ -8.98226714,  -8.        ,  -8.98098464,  -9.94190898],\n",
       "       [ -7.99322643,  -7.        ,  -7.99644821,  -8.9644582 ],\n",
       "       [ -6.99720032,  -6.        ,  -6.98633483,  -7.98643754],\n",
       "       [ -5.99793909,  -4.9993426 ,  -4.        ,  -6.99716999],\n",
       "       [-16.71391348, -15.99999069, -16.53912088, -16.65992318],\n",
       "       [-15.7608407 , -14.99999783, -15.73705399, -16.32931607],\n",
       "       [-14.83312152, -13.99999943, -14.79603985, -15.29752776],\n",
       "       [-13.81123608, -12.99999985, -13.86813916, -14.74805814],\n",
       "       [-12.85167651, -11.99999995, -12.85866478, -13.85094304],\n",
       "       [-11.92364185, -10.99999999, -11.92908648, -12.79938357],\n",
       "       [-10.93098097, -10.        , -10.95767174, -11.89162437],\n",
       "       [ -9.98299266,  -9.        ,  -9.96708973, -10.92495461],\n",
       "       [ -8.98064847,  -8.        ,  -8.98895023,  -9.96837276],\n",
       "       [ -7.99399991,  -7.        ,  -7.99065742,  -8.96847362],\n",
       "       [ -6.99244027,  -5.        ,  -5.9980939 ,  -7.9929303 ],\n",
       "       [ -4.99883887,  -3.99975484,  -3.        ,  -5.99967933],\n",
       "       [-16.67868861, -15.99999201, -16.64506683, -16.61566089],\n",
       "       [-15.80788031, -14.99999811, -15.66382107, -16.15263646],\n",
       "       [-14.85262826, -13.9999995 , -14.79962186, -15.57153018],\n",
       "       [-13.87763996, -12.99999985, -13.83604147, -14.66557811],\n",
       "       [-12.86549832, -11.99999996, -12.93840307, -13.8077448 ],\n",
       "       [-11.89471171, -10.99999998, -11.9088156 , -12.90863761],\n",
       "       [-10.95417338, -10.        , -10.96778366, -11.9401253 ],\n",
       "       [ -9.927088  ,  -9.        ,  -9.97158715, -10.94380491],\n",
       "       [ -8.98825242,  -8.        ,  -8.98069588,  -9.96065309],\n",
       "       [ -7.99855962,  -5.99990793,   0.        ,  -8.99589997],\n",
       "       [ -6.99923085,  -4.        ,  -4.99895646,  -7.99094148],\n",
       "       [ -3.99992582,  -2.99985758,  -2.        ,  -4.99944301],\n",
       "       [-16.80813069, -15.99999163, -16.68844326, -16.67325033],\n",
       "       [-15.80118898, -14.99999817, -15.63012945, -16.58837778],\n",
       "       [-14.89053379, -13.99999953, -14.84970973, -15.25984203],\n",
       "       [-13.8688763 , -12.99999986, -13.8428994 , -14.81688406],\n",
       "       [-12.89838836, -11.99999996, -12.87583506, -13.85725874],\n",
       "       [-11.9391804 , -10.99999998, -11.96025949, -12.92783432],\n",
       "       [-10.94761323, -10.        , -10.97635497, -11.80801956],\n",
       "       [ -9.96517571,  -9.        ,  -9.96695574, -10.9738001 ],\n",
       "       [ -8.97066918,  -8.        ,  -8.98383757,  -9.94410483],\n",
       "       [ -7.9991367 ,  -5.        ,  -5.99448155,  -8.99075939],\n",
       "       [ -5.99992921,  -2.99997054,  -1.        ,   0.        ],\n",
       "       [ -2.99997589,  -1.99998551,  -2.99993083,  -1.        ],\n",
       "       [-16.6135827 , -15.99999318, -16.70182437, -16.5222397 ],\n",
       "       [-15.7781079 , -14.99999834, -15.72436233, -16.50472813],\n",
       "       [-14.8673299 , -13.99999956, -14.82442957, -15.60019483],\n",
       "       [-13.86905036, -12.99999986, -13.91783096, -14.5018551 ],\n",
       "       [-12.85129068, -11.99999995, -12.93783384, -13.7409443 ],\n",
       "       [-11.86980064, -10.99999999, -11.94729469, -12.9219217 ],\n",
       "       [-10.96705937, -10.        , -10.94334344, -11.86380538],\n",
       "       [ -9.97667386,  -9.        ,  -9.97461199, -10.96459114],\n",
       "       [ -8.99816119,   0.        ,  -8.99905554,  -9.99686005],\n",
       "       [  0.        ,  -1.        ,  -1.        ,  -8.99944174],\n",
       "       [ -4.99986795,  -2.        ,  -2.99990324,  -5.99926084],\n",
       "       [ -2.        ,  -2.99995798,  -2.99983999,  -2.99985269],\n",
       "       [-16.75281124, -15.99999311, -16.73453353, -16.65474718],\n",
       "       [-15.70607366, -14.99999833, -15.72273583, -16.44223218],\n",
       "       [-14.63667267, -13.99999951, -14.82577997, -15.77958892],\n",
       "       [-13.69026864, -12.99999986, -13.77905575, -14.71251282],\n",
       "       [-12.89217705, -11.99999996, -12.89767983, -13.85654841],\n",
       "       [-11.91008893, -10.99999999, -11.96279399, -12.84844291],\n",
       "       [-10.97293649, -10.        , -10.95786863, -11.90026477],\n",
       "       [ -9.97248608,  -9.        ,  -9.95915713, -10.95337913],\n",
       "       [ -8.99871774,  -5.99989038,  -1.        ,  -9.99541548],\n",
       "       [ -5.99974321,  -2.99995184,  -1.9999606 ,  -1.        ],\n",
       "       [ -1.        ,  -2.99990216,  -1.99998069,  -1.        ],\n",
       "       [ -2.99998069,  -2.99996514,  -2.99989804,  -2.        ]])"
      ]
     },
     "execution_count": 535,
     "metadata": {},
     "output_type": "execute_result"
    }
   ],
   "source": [
    "print('Q values')\n",
    "env1.getQ()"
   ]
  },
  {
   "cell_type": "code",
   "execution_count": 536,
   "metadata": {},
   "outputs": [
    {
     "name": "stdout",
     "output_type": "stream",
     "text": [
      "Policy Optimal. N, E, S, W = 0, 1, 2, 3\n"
     ]
    },
    {
     "data": {
      "text/plain": [
       "array([[1., 1., 1., 1., 1., 1., 1., 1., 1., 1., 1., 2.],\n",
       "       [1., 1., 1., 1., 1., 1., 1., 1., 1., 1., 1., 2.],\n",
       "       [1., 1., 1., 1., 1., 1., 1., 1., 1., 1., 1., 2.],\n",
       "       [1., 1., 1., 1., 1., 1., 1., 1., 1., 2., 1., 2.],\n",
       "       [1., 1., 1., 1., 1., 1., 1., 1., 1., 1., 3., 3.],\n",
       "       [1., 1., 1., 1., 1., 1., 1., 1., 1., 0., 1., 0.],\n",
       "       [1., 1., 1., 1., 1., 1., 1., 1., 2., 3., 0., 3.]])"
      ]
     },
     "execution_count": 536,
     "metadata": {},
     "output_type": "execute_result"
    }
   ],
   "source": [
    "print('Policy Optimal. N, E, S, W = 0, 1, 2, 3')\n",
    "env1.getU()"
   ]
  },
  {
   "cell_type": "code",
   "execution_count": 537,
   "metadata": {},
   "outputs": [
    {
     "name": "stdout",
     "output_type": "stream",
     "text": [
      "Graph depicting sum of values of Q table with increase in iterations\n"
     ]
    },
    {
     "data": {
      "text/plain": [
       "[<matplotlib.lines.Line2D at 0x7f09c98ace90>]"
      ]
     },
     "execution_count": 537,
     "metadata": {},
     "output_type": "execute_result"
    },
    {
     "data": {
      "image/png": "[encoded data removed]",
      "text/plain": [
       "<Figure size 432x288 with 1 Axes>"
      ]
     },
     "metadata": {
      "needs_background": "light"
     },
     "output_type": "display_data"
    }
   ],
   "source": [
    "print('Graph depicting sum of values of Q table with increase in iterations')\n",
    "plt.plot(Q_total)"
   ]
  },
  {
   "cell_type": "markdown",
   "metadata": {},
   "source": [
    "### Running for different epsilons"
   ]
  },
  {
   "cell_type": "code",
   "execution_count": 539,
   "metadata": {},
   "outputs": [
    {
     "name": "stdout",
     "output_type": "stream",
     "text": [
      "Policy for epsilon = 0.1 \n",
      " [[1. 1. 1. 1. 1. 1. 1. 1. 1. 1. 1. 2.]\n",
      " [1. 1. 1. 1. 1. 1. 1. 1. 1. 1. 1. 2.]\n",
      " [1. 1. 1. 1. 1. 1. 1. 1. 1. 1. 1. 2.]\n",
      " [1. 1. 1. 1. 1. 1. 1. 1. 1. 2. 1. 2.]\n",
      " [1. 1. 1. 1. 1. 1. 1. 1. 1. 1. 3. 3.]\n",
      " [1. 1. 1. 1. 1. 1. 1. 1. 1. 0. 1. 0.]\n",
      " [1. 1. 1. 1. 1. 1. 1. 1. 2. 3. 0. 3.]]\n"
     ]
    },
    {
     "data": {
      "image/png": "[encoded data removed]",
      "text/plain": [
       "<Figure size 432x288 with 1 Axes>"
      ]
     },
     "metadata": {
      "needs_background": "light"
     },
     "output_type": "display_data"
    },
    {
     "name": "stdout",
     "output_type": "stream",
     "text": [
      "Policy for epsilon = 0.3 \n",
      " [[1. 1. 1. 1. 1. 1. 1. 1. 1. 1. 1. 2.]\n",
      " [1. 1. 1. 1. 1. 1. 1. 1. 1. 1. 1. 2.]\n",
      " [1. 1. 1. 1. 1. 1. 1. 1. 1. 1. 1. 2.]\n",
      " [1. 1. 1. 1. 1. 1. 1. 1. 1. 2. 1. 2.]\n",
      " [1. 1. 1. 1. 1. 1. 1. 1. 1. 1. 3. 3.]\n",
      " [1. 1. 1. 1. 1. 1. 1. 1. 1. 0. 1. 0.]\n",
      " [1. 1. 1. 1. 1. 1. 1. 1. 2. 3. 0. 3.]]\n"
     ]
    },
    {
     "data": {
      "image/png": "[encoded data removed]",
      "text/plain": [
       "<Figure size 432x288 with 1 Axes>"
      ]
     },
     "metadata": {
      "needs_background": "light"
     },
     "output_type": "display_data"
    },
    {
     "name": "stdout",
     "output_type": "stream",
     "text": [
      "Policy for epsilon = 0.5 \n",
      " [[1. 1. 1. 1. 1. 1. 1. 1. 1. 1. 1. 2.]\n",
      " [1. 1. 1. 1. 1. 1. 1. 1. 1. 1. 1. 2.]\n",
      " [1. 1. 1. 1. 1. 1. 1. 1. 1. 1. 1. 2.]\n",
      " [1. 1. 1. 1. 1. 1. 1. 1. 1. 2. 1. 2.]\n",
      " [1. 1. 1. 1. 1. 1. 1. 1. 1. 1. 3. 3.]\n",
      " [1. 1. 1. 1. 1. 1. 1. 1. 1. 0. 1. 0.]\n",
      " [1. 1. 1. 1. 1. 1. 1. 1. 2. 3. 0. 3.]]\n"
     ]
    },
    {
     "data": {
      "image/png": "[encoded data removed]",
      "text/plain": [
       "<Figure size 432x288 with 1 Axes>"
      ]
     },
     "metadata": {
      "needs_background": "light"
     },
     "output_type": "display_data"
    },
    {
     "name": "stdout",
     "output_type": "stream",
     "text": [
      "Policy for epsilon = 0.8 \n",
      " [[1. 1. 1. 1. 1. 1. 1. 1. 1. 1. 1. 2.]\n",
      " [1. 1. 1. 1. 1. 1. 1. 1. 1. 1. 1. 2.]\n",
      " [1. 1. 1. 1. 1. 1. 1. 1. 1. 1. 1. 2.]\n",
      " [1. 1. 1. 1. 1. 1. 1. 1. 1. 2. 1. 2.]\n",
      " [1. 1. 1. 1. 1. 1. 1. 1. 1. 1. 3. 3.]\n",
      " [1. 1. 1. 1. 1. 1. 1. 1. 1. 0. 1. 0.]\n",
      " [1. 1. 1. 1. 1. 1. 1. 1. 2. 3. 0. 3.]]\n"
     ]
    },
    {
     "data": {
      "image/png": "[encoded data removed]",
      "text/plain": [
       "<Figure size 432x288 with 1 Axes>"
      ]
     },
     "metadata": {
      "needs_background": "light"
     },
     "output_type": "display_data"
    },
    {
     "name": "stdout",
     "output_type": "stream",
     "text": [
      "Policy for epsilon = 0.95 \n",
      " [[1. 1. 1. 1. 1. 1. 1. 1. 1. 1. 1. 2.]\n",
      " [1. 1. 1. 1. 1. 1. 1. 1. 1. 1. 1. 2.]\n",
      " [1. 1. 1. 1. 1. 1. 1. 1. 1. 1. 1. 2.]\n",
      " [1. 1. 1. 1. 1. 1. 1. 1. 1. 2. 1. 2.]\n",
      " [1. 1. 1. 1. 1. 1. 1. 1. 1. 1. 3. 3.]\n",
      " [1. 1. 1. 1. 1. 1. 1. 1. 1. 0. 1. 0.]\n",
      " [1. 1. 1. 1. 1. 1. 1. 1. 2. 3. 0. 3.]]\n"
     ]
    },
    {
     "data": {
      "image/png": "[encoded data removed]",
      "text/plain": [
       "<Figure size 432x288 with 1 Axes>"
      ]
     },
     "metadata": {
      "needs_background": "light"
     },
     "output_type": "display_data"
    }
   ],
   "source": [
    "m, n = 7, 12\n",
    "winds = np.array([0, 0, 0, 1, 1, 1, 1, 2, 2, 1, 1, 0])\n",
    "max_iter = 1000\n",
    "\n",
    "for eps in [0.1, 0.3, 0.5, 0.8, 0.95]:\n",
    "    env1 = P1(m, n, winds, eps, max_iter)\n",
    "    Q_total = env1.solve()\n",
    "    print('Policy for epsilon = {} \\n {}'.format(eps, env1.getU()))\n",
    "    plt.plot(Q_total)\n",
    "    plt.show()"
   ]
  },
  {
   "cell_type": "code",
   "execution_count": null,
   "metadata": {},
   "outputs": [],
   "source": []
  }
 ],
 "metadata": {
  "kernelspec": {
   "display_name": "Python 3",
   "language": "python",
   "name": "python3"
  },
  "language_info": {
   "codemirror_mode": {
    "name": "ipython",
    "version": 3
   },
   "file_extension": ".py",
   "mimetype": "text/x-python",
   "name": "python",
   "nbconvert_exporter": "python",
   "pygments_lexer": "ipython3",
   "version": "3.7.6"
  }
 },
 "nbformat": 4,
 "nbformat_minor": 4
}
